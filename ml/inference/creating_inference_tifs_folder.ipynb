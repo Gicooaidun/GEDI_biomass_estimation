{
 "cells": [
  {
   "cell_type": "markdown",
   "metadata": {},
   "source": [
    "adding the raw inference outputs to the cropped_mosaics"
   ]
  },
  {
   "cell_type": "code",
   "execution_count": null,
   "metadata": {},
   "outputs": [],
   "source": [
    "import rasterio\n",
    "import numpy as np\n",
    "from skimage.transform import resize\n",
    "\n",
    "with open('tile_names_inference.txt', 'r') as file:\n",
    "    filenames = file.read().splitlines()\n",
    "\n",
    "for filename in filenames:\n",
    "    # Load the TIFF file\n",
    "    with rasterio.open(f'../../data_preprocessing/cropped_mosaic/{filename}_cropped_mosaic.tif') as src:\n",
    "        # Read the existing bands\n",
    "        bands = src.read()\n",
    "        print(\"cropped_mosaic shape\")\n",
    "        print(bands.shape)\n",
    "\n",
    "        # Load the NumPy array\n",
    "        array = np.load(f'inference_output/inference_{filename}.npy')\n",
    "        # print(\"inference_ensemble shape\")\n",
    "        # print(array.shape)\n",
    "        array = np.mean(array, axis=0, keepdims=True)\n",
    "        data = array[0]\n",
    "        # print(\"averaged_inference shape\")\n",
    "        # print(data.shape)\n",
    "        data = np.moveaxis(data, 2, 0)\n",
    "\n",
    "        resized_data = resize(data, bands.shape)\n",
    "        print(\"resized_data shape\")\n",
    "        print(resized_data.shape)\n",
    "\n",
    "        # Check if the dimensions of the array match the TIFF file\n",
    "        if bands.shape[1:] != resized_data.shape[1:]:\n",
    "            raise ValueError(\"Array dimensions do not match the TIFF file\")\n",
    "\n",
    "        difference = np.where(bands[0] == -9999, 0 - resized_data[0], bands[0] - resized_data[0])\n",
    "        difference = np.expand_dims(difference, axis=0)\n",
    "        # Create a new array with the additional band\n",
    "        new_bands = np.concatenate((bands, resized_data, difference), axis=0)\n",
    "\n",
    "        profile = src.profile\n",
    "        profile['count'] = 5\n",
    "\n",
    "        '''\n",
    "        band 1: icesat agbd\n",
    "        band 2: icesat std\n",
    "        band 3: predicted agbd\n",
    "        band 4: ensemble std\n",
    "        band 5: difference between icesat and predicted agbd\n",
    "        \n",
    "        '''\n",
    "\n",
    "        # Create a new TIFF file with the additional band\n",
    "        with rasterio.open(f'inference_output/inference_{filename}.tif', 'w', **profile) as dst:\n",
    "            dst.write(new_bands)\n",
    "        print(f'======== {filename} done ========')\n"
   ]
  }
 ],
 "metadata": {
  "kernelspec": {
   "display_name": "Python 3",
   "language": "python",
   "name": "python3"
  },
  "language_info": {
   "codemirror_mode": {
    "name": "ipython",
    "version": 3
   },
   "file_extension": ".py",
   "mimetype": "text/x-python",
   "name": "python",
   "nbconvert_exporter": "python",
   "pygments_lexer": "ipython3",
   "version": "3.10.12"
  }
 },
 "nbformat": 4,
 "nbformat_minor": 2
}
